{
 "cells": [
  {
   "cell_type": "markdown",
   "metadata": {
    "collapsed": true,
    "pycharm": {
     "name": "#%% md\n"
    }
   },
   "source": [
    "# 1. Construct the Burrows-Wheeler Transform of a String"
   ]
  },
  {
   "cell_type": "code",
   "execution_count": 1,
   "metadata": {
    "pycharm": {
     "name": "#%%\n"
    }
   },
   "outputs": [
    {
     "name": "stdout",
     "output_type": "stream",
     "text": [
      "GGGAGCAGTTTTACGCCGGAATATCAGCGTAGGCCTGTCCTAAGTTATGTAAACAATGACCCCTGATTACCCCCGACCGCGGGATAACGTAATGTTCTGCATGAACGGTAATACGAACCGCACGTACACACTTCCAAGTATTGTCGCACGGGGGGTCATTAGAGGGTGTTCCACGACTTAGCGATACTGTGGCAACCGTTCCATCCACGAACCAGTCAGTATCCAAGTCGCTTGTGTAATTTCCGACGATTTGGCCGTATCTTGGTCGGACCAAAATCATCGAAGGAGGGAGGACTACGGTGTCTATCTGATCCCGGCATGCTGCCCGCCCGTCTCTCAGATTTGCGTTGAAACAAGGTTCTGGTTTGATATTAATAATTTCGTCTCTGTTATCAGGACTTTGGCTGGTCCAGTGTATCCAACCTATAGACATGTGTTGATGAGAATT$AGGACCACTTGTCGTAATGTACCAAATAGGCATTATAGAATATCAGGTGCAGTCTGTTAAGAAGACCCTTGATCCTCTTCAGTCACTAAACACGAAGGCAACACGTATCCACTACCACTCGTCTCTCTCATCTCGTGGGCGGAGGTAATAGGAAGCCGACTAATACGAGCGTATTTTCAGTAGAATCGGCTCGGTGGGGTTCGCCACCCCAGCTCTGTCTATTGACTAAATTCTGCGCGGAGTAAGCTGACGTATCCTTCTAAGTCACCAGCTCTTGACTAACCGAATCACTCATTGTGTGCTTTCCGAGAACTTCGCTTGATCAGAGGGCTCCAGCAAAACTGGCGACGCGGGCGGACGTATCTCTAAAAGCCGAAGCCATGATACTTTGTCGGGCTTGAGGCTCGCTGGACCACCTTTGGAATTCTATATCCGGAAAGCACACTCTTTTAGTGCGATCCGAGCACGACGGGGCATGTATCGCACACCACATACTTCCTACAGTAGTCCACAAGCACTGGTCCTAGGATAACCTCTTGCACGAA\n"
     ]
    }
   ],
   "source": [
    "with open('rosalind_ba9i.txt') as file:\n",
    "    text = file.readline().rstrip()\n", 
    "\n",
    "bw_mat = []\n",
    "for i in range(len(text)):\n",
    "    bw_mat.append(text[i: len(text)] + text[0: i])\n",
    "bwt = ''.join([pattern[-1] for pattern in sorted(bw_mat)])\n",
    "print(bwt)\n",
    "with open('output.txt', 'w') as file:\n",
    "    file.write(bwt)"
   ]
  },
  {
   "cell_type": "markdown",
   "metadata": {
    "pycharm": {
     "name": "#%% md\n"
    }
   },
   "source": [
    "# 2. Reconstruct a String from its Burrows-Wheeler Transform"
   ]
  },
  {
   "cell_type": "code",
   "execution_count": 2,
   "metadata": {
    "pycharm": {
     "name": "#%%\n"
    }
   },
   "outputs": [
    {
     "name": "stdout",
     "output_type": "stream",
     "text": [
      "CCTCACATTAACAGGCAAAGCAGCGTAAAACAATATAACAACATCAGAGGCGCATTAAGCCCGGTTGGAAGTCGGACGCTGAAGCACCTGTATTTTTCCAGACGCACCTACTAAACTTTCTACGGCTAAACAACACCTTTCAATGGGGCTATCGAGCACCTCTCGGTAGATGTTGTCCTTAGATCGGTGTCAGGGACATTTCGCTATGCTGCTTCGTATCACTTACCCGAAGATCAGGGACTCTAAAAACTGGGGGGGGGGGGCACGTGGTTGCGTAGTGACCCACTCCAGTGGAGCGTAGTAAAGTTTAAAAGAAGTAATTGCGCTTCCGCATCTATCGACAAAGAAAGGGAGGCGGAACCGTCTCGTGCATCTCCGACTCAAAACATCCGAAGGACAGTAACCGCTTCGTCTTTCGGTTGTAGGTCCGGTCTTACGGAGGCAAGACGTTGCTCGATAAGCAAGGGTAATGACTCGGTCCTGGAAATTAGCATTCAGTCGGTGCACGTGAGATTATTTAAAATTATCACAATATTGAACGCGCTATGGGCCATCGCGACTTCGTTCAGAAAAATGAAAGTGTAAGACAGCGCTATCTACGTCCCGAGTTCAACACGGACCTATTATAAATAGAGGTAGCCATTTTCTCCCCGTACTCCTCGGGCAGCACATTGGTGAGGCGCAATCAGTGTAAAGCCATGGTTGGCACCGTGTCGCGTATCGCGGATATACACACGACCATCCCTCGCACCGGAAATGCTGAACACTAGCCATGAAGGCGCGTAGAATTGGATGGATGGGACTCATATCACAATTAACGTGATAAGGCATAATTTAACTCTGCAACGTTCAAGCATGCAACTCGTAAGAAGCGTGTGATAAATCAATCCCCTTTGTGCGAGTAATGCCTACGCTTACGGGATTCACCTATCTTAGGATTAGGTGTATCCTAACTTCAAGTTAACGTAACAA$\n"
     ]
    }
   ],
   "source": [
    "with open('rosalind_ba9j.txt') as file:\n",
    "    last_col = file.readline().rstrip()\n",
    "\n",
    "first_col = sorted(last_col)\n",
    "last_col = list(last_col)\n",
    "symbol_count = {}\n",
    "new_first_col = []\n",
    "new_last_col = []\n",
    "for symbol in first_col:\n",
    "    if symbol not in symbol_count:\n",
    "        counter = 1\n",
    "    else:\n",
    "        counter = symbol_count[symbol] + 1\n",
    "    symbol_count[symbol] = counter\n",
    "    new_first_col.append(f'{symbol}{counter}')\n",
    "\n",
    "symbol_count = {}\n",
    "for symbol in last_col:\n",
    "    if symbol not in symbol_count:\n",
    "        counter = 1\n",
    "    else:\n",
    "        counter = symbol_count[symbol] + 1\n",
    "    symbol_count[symbol] = counter\n",
    "    new_last_col.append(f'{symbol}{counter}')\n",
    "\n",
    "prev_map = {}\n",
    "for i in range(len(last_col)):\n",
    "    prev_map[new_first_col[i]] = new_last_col[i]\n",
    "\n",
    "current_char = prev_map['$1']\n",
    "text = []\n",
    "while current_char != '$1':\n",
    "    text.append(current_char[0])\n",
    "    current_char = prev_map[current_char]\n",
    "text.insert(0, '$')\n",
    "text.reverse()\n",
    "output = ''.join(text)\n",
    "print(output)\n",
    "with open('output.txt', 'w') as file:\n",
    "    file.write(output)"
   ]
  },
  {
   "cell_type": "markdown",
   "metadata": {
    "pycharm": {
     "name": "#%% md\n"
    }
   },
   "source": [
    "# 3. Generate the Last-to-First Mapping of a String"
   ]
  },
  {
   "cell_type": "code",
   "execution_count": 3,
   "metadata": {
    "pycharm": {
     "name": "#%%\n"
    }
   },
   "outputs": [
    {
     "name": "stdout",
     "output_type": "stream",
     "text": [
      "182\n"
     ]
    }
   ],
   "source": [
    "with open('rosalind_ba9k.txt') as file:\n",
    "    last_col = file.readline().rstrip()\n",
    "    index = int(file.readline().rstrip())\n",
    "\n",
    "target_symbol = last_col[index]\n",
    "symbol_number = 1\n",
    "first_col = sorted(last_col)\n",
    "for i in range(index):\n",
    "    if last_col[i] == target_symbol:\n",
    "        symbol_number += 1\n",
    "\n",
    "symbol_count = 0\n",
    "for i, symbol in enumerate(first_col):\n",
    "    if symbol == target_symbol:\n",
    "        symbol_count += 1\n",
    "        if symbol_count == symbol_number:\n",
    "            output = str(i)\n",
    "            break\n",
    "print(output)\n",
    "with open('output.txt', 'w') as file:\n",
    "    file.write(output)"
   ]
  },
  {
   "cell_type": "markdown",
   "metadata": {
    "pycharm": {
     "name": "#%% md\n"
    }
   },
   "source": [
    "# 4. Find All Occurrences of a Collection of Patterns in a String"
   ]
  },
  {
   "cell_type": "code",
   "execution_count": 4,
   "metadata": {
    "pycharm": {
     "name": "#%%\n"
    }
   },
   "outputs": [
    {
     "name": "stdout",
     "output_type": "stream",
     "text": [
      "3 4 5 6 7 8 9 10 11 29 30 31 32 33 34 36 37 41 46 47 48 50 51 52 53 64 76 77 80 87 88 89 90 91 92 94 95 108 122 123 124 125 126 127 129 137 138 139 140 143 147 148 149 156 166 177 182 183 190 191 192 193 194 195 196 197 206 207 215 216 217 218 219 220 221 222 223 226 233 237 242 243 244 245 246 247 248 249 250 253 261 262 263 264 265 266 267 268 275 276 277 278 279 281 297 298 299 300 301 302 304 314 315 316 317 326 337 338 339 340 341 342 343 352 353 362 363 364 365 366 367 368 369 381 382 394 397 398 399 400 402 403 404 412 413 414 415 418 434 437 438 460 462 464 465 466 467 472 475 476 490 505 506 507 508 509 510 511 512 520 521 522 523 526 532 533 534 535 536 537 538 539 551 552 553 557 561 562 563 570 578 583 584 588 597 598 614 615 616 618 619 620 621 633 634 635 636 637 638 639 640 641 642 647 657 672 673 674 675 676 677 678 679 692 693 694 706 707 708 709 710 711 712 713 714 729 738 752 753 755 756 757 758 759 770 771 772 773 774 775 776 777 788 790 791 793 794 795 813 814 815 834 843 852 853 854 855 856 857 858 859 870 871 876 887 888 904 905 908 911 914 925 930 944 945 946 947 948 949 950 951 952 966 967 975 976 977 978 979 980 981 982 983 992 993 994 995 996 997 1002 1007 1008 1009 1010 1011 1012 1013 1014 1015 1035 1036 1037 1042 1057 1058 1059 1060 1061 1062 1063 1064 1065 1085 1096 1097 1098 1099 1100 1101 1102 1103 1118 1121 1131 1132 1133 1134 1135 1136 1137 1138 1150 1157 1173 1188 1189 1192 1193 1199 1202 1203 1204 1205 1206 1207 1208 1209 1219 1220 1221 1222 1235 1254 1263 1269 1280 1281 1282 1283 1284 1285 1286 1287 1288 1289 1298 1302 1305 1307 1308 1309 1321 1322 1323 1324 1333 1334 1335 1336 1341 1342 1343 1344 1346 1347 1348 1349 1368 1369 1376 1377 1389 1390 1391 1392 1393 1394 1395 1396 1404 1423 1424 1425 1426 1434 1435 1436 1445 1462 1476 1478 1481 1484 1485 1486 1493 1497 1508 1517 1518 1519 1520 1521 1522 1523 1524 1536 1537 1540 1541 1542 1543 1544 1545 1546 1547 1552 1553 1554 1562 1563 1565 1574 1591 1595 1600 1601 1609 1610 1611 1612 1614 1615 1616 1617 1618 1629 1630 1631 1632 1633 1634 1635 1636 1647 1666 1667 1668 1669 1670 1671 1672 1673 1679 1680 1681 1682 1698 1707 1708 1709 1710 1711 1712 1714 1715 1724 1725 1746 1750 1751 1756 1765 1766 1784 1785 1786 1788 1789 1790 1791 1811 1820 1831 1833 1846 1847 1862 1871 1872 1873 1875 1876 1878 1882 1883 1908 1909 1910 1911 1912 1913 1914 1915 1922 1923 1933 1935 1957 1958 1959 1960 1961 1962 1963 1964 1965 1982 1983 1994 1996 2006 2007 2008 2009 2015 2018 2022 2031 2032 2040 2041 2042 2051 2069 2070 2074 2075 2093 2096 2106 2120 2121 2122 2123 2124 2126 2127 2139 2151 2163 2164 2165 2166 2167 2168 2178 2191 2193 2194 2195 2196 2197 2198 2208 2209 2210 2211 2212 2213 2215 2219 2225 2243 2244 2245 2246 2247 2248 2249 2250 2260 2270 2275 2281 2289 2290 2301 2312 2313 2314 2315 2316 2317 2318 2319 2320 2321 2324 2339 2347 2348 2349 2352 2353 2354 2355 2364 2379 2380 2381 2382 2383 2384 2385 2386 2393 2397 2399 2400 2402 2419 2423 2424 2425 2426 2427 2429 2430 2444 2445 2457 2458 2459 2460 2461 2462 2463 2464 2471 2472 2473 2479 2480 2481 2491 2499 2506 2507 2508 2509 2510 2511 2515 2516 2536 2540 2549 2550 2551 2552 2554 2555 2565 2571 2572 2580 2590 2591 2600 2601 2602 2603 2604 2605 2606 2607 2608 2618 2621 2624 2636 2637 2638 2639 2640 2641 2642 2643 2644 2645 2646 2652 2653 2654 2655 2667 2669 2670 2671 2672 2673 2674 2693 2694 2695 2696 2697 2698 2700 2705 2710 2711 2712 2714 2715 2716 2717 2718 2729 2730 2731 2732 2743 2747 2752 2756 2759 2767 2768 2772 2776 2777 2789 2790 2791 2792 2793 2795 2803 2804 2805 2806 2807 2808 2809 2810 2811 2816 2817 2818 2819 2820 2821 2825 2826 2827 2828 2829 2830 2845 2848 2849 2856 2858 2863 2864 2865 2866 2873 2874 2875 2876 2877 2878 2879 2880 2890 2891 2892 2893 2894 2895 2904 2905 2913 2914 2915 2916 2917 2918 2919 2920 2928 2929 2930 2931 2932 2933 2934 2935 2936 2946 2947 2948 2949 2951 2952 2953 2954 2963 2964 2965 2966 2967 2968 2983 3007 3012 3013 3014 3015 3016 3017 3018 3019 3020 3027 3033 3046 3047 3048 3049 3050 3051 3052 3053 3062 3063 3064 3065 3067 3068 3069 3070 3083 3084 3085 3086 3087 3088 3089 3090 3091 3104 3117 3118 3119 3120 3121 3122 3133 3137 3162 3164 3165 3166 3167 3168 3169 3176 3185 3193 3195 3196 3203 3204 3205 3206 3207 3216 3228 3229 3230 3231 3232 3233 3234 3235 3244 3245 3254 3266 3278 3279 3288 3289 3290 3291 3300 3301 3314 3315 3316 3340 3341 3342 3343 3346 3347 3357 3358 3359 3360 3361 3362 3363 3364 3367 3368 3369 3372 3373 3374 3389 3390 3391 3392 3393 3394 3395 3396 3397 3406 3407 3408 3409 3410 3411 3412 3413 3418 3419 3423 3424 3425 3426 3427 3428 3429 3430 3444 3458 3459 3460 3461 3462 3463 3464 3465 3498 3499 3508 3524 3533 3547 3548 3549 3550 3551 3552 3553 3554 3555 3558 3561 3568 3583 3584 3585 3587 3588 3589 3590 3597 3613 3622 3623 3624 3625 3626 3627 3628 3629 3630 3634 3638 3639 3640 3641 3642 3643 3644 3645 3655 3656 3661 3668 3669 3670 3671 3672 3683 3692 3701 3702 3704 3706 3707 3729 3742 3744 3745 3747 3748 3749 3766 3774 3775 3776 3777 3778 3779 3781 3782 3793 3797 3812 3813 3814 3815 3816 3817 3818 3819 3820 3830 3839 3845 3849 3854 3857 3858 3870 3871 3878 3886 3887 3896 3897 3898 3899 3900 3908 3922 3923 3926 3942 3953 3961 3975 3977 3978 3980 3999 4000 4001 4002 4003 4004 4005 4006 4007 4015 4016 4017 4018 4024 4025 4026 4027 4035 4036 4037 4045 4046 4047 4048 4049 4050 4051 4052 4066 4067 4068 4069 4070 4071 4072 4073 4078 4086 4087 4088 4089 4090 4098 4099 4100 4102 4103 4104 4113 4120 4121 4122 4123 4124 4125 4126 4127 4131 4135 4136 4139 4149 4150 4155 4159 4160 4161 4168 4180 4181 4182 4183 4187 4188 4197 4198 4200 4202 4210 4211 4212 4220 4221 4226 4234 4245 4254 4256 4257 4258 4259 4260 4261 4271 4272 4297 4298 4299 4314 4315 4316 4317 4318 4319 4320 4321 4326 4329 4336 4337 4338 4351 4352 4356 4357 4358 4369 4374 4375 4383 4384 4385 4386 4387 4388 4390 4399 4412 4413 4414 4423 4430 4431 4432 4433 4434 4435 4444 4454 4455 4464 4465 4481 4482 4483 4485 4486 4487 4488 4496 4497 4502 4503 4504 4505 4506 4507 4516 4517 4518 4519 4521 4522 4523 4524 4535 4536 4537 4538 4539 4547 4548 4549 4550 4551 4553 4554 4563 4564 4569 4570 4572 4573 4582 4583 4584 4593 4602 4603 4604 4605 4606 4607 4620 4621 4632 4633 4634 4635 4636 4637 4638 4639 4642 4651 4652 4653 4654 4659 4663 4664 4665 4666 4667 4668 4669 4677 4678 4687 4688 4689 4690 4703 4704 4705 4706 4707 4708 4710 4721 4736 4753 4762 4763 4764 4765 4766 4767 4769 4781 4782 4796 4797 4798 4799 4816 4825 4853 4856 4872 4873 4882 4883 4884 4898 4903 4912 4913 4929 4930 4936 4937 4938 4939 4940 4941 4942 4943 4944 4947 4948 4950 4955 4956 4957 4958 4959 4960 4961 4962 4963 4964 4978 4979 4981 4982 4983 4984 4985 4994 4995 4996 4998 5010 5011 5012 5023 5024 5025 5026 5027 5028 5030 5031 5034 5040 5041 5042 5043 5044 5045 5046 5047 5055 5056 5057 5058 5059 5060 5061 5062 5063 5079 5095 5096 5097 5098 5099 5100 5101 5102 5115 5116 5117 5119 5121 5122 5123 5132 5146 5157 5158 5159 5160 5161 5162 5163 5164 5192 5193 5201 5202 5211 5212 5213 5214 5215 5216 5217 5218 5219 5228 5233 5234 5235 5236 5237 5238 5239 5240 5252 5256 5257 5258 5259 5260 5261 5262 5263 5264 5265 5286 5287 5298 5302 5303 5304 5309 5313 5322 5323 5325 5326 5328 5346 5355 5364 5365 5366 5367 5368 5369 5377 5381 5386 5387 5388 5389 5390 5391 5392 5393 5394 5395 5396 5397 5400 5401 5404 5405 5408 5409 5424 5425 5426 5435 5436 5438 5439 5440 5441 5442 5445 5446 5453 5467 5478 5479 5480 5481 5482 5483 5484 5485 5515 5516 5517 5518 5519 5520 5521 5522 5531 5540 5549 5566 5585 5586 5591 5603 5606 5607 5612 5613 5614 5615 5616 5617 5635 5636 5637 5638 5647 5660 5663 5664 5665 5666 5667 5669 5670 5671 5674 5690 5693 5694 5699 5705 5730 5731 5732 5733 5734 5735 5744 5763 5779 5788 5789 5790 5791 5794 5795 5796 5808 5809 5810 5811 5817 5828 5829 5830 5831 5832 5833 5834 5835 5847 5848 5849 5854 5855 5856 5857 5858 5859 5860 5861 5862 5863 5864 5876 5887 5888 5889 5890 5891 5900 5919 5920 5921 5922 5923 5926 5927 5928 5929 5942 5943 5944 5945 5946 5947 5948 5949 5958 5959 5962 5972 5973 5974 5975 5976 5977 5978 5987 5988 5989 5990 5991 5992 5993 6002 6003 6015 6016 6017 6018 6019 6020 6021 6022 6041 6042 6043 6044 6045 6046 6047 6048 6065 6066 6087 6098 6100 6101 6102 6103 6112 6113 6114 6115 6116 6117 6118 6119 6128 6129 6130 6131 6144 6145 6159 6160 6174 6175 6177 6178 6189 6201 6210 6211 6220 6221 6222 6223 6224 6241 6242 6243 6251 6263 6271 6275 6276 6277 6278 6279 6281 6282 6301 6302 6303 6304 6305 6308 6318 6325 6326 6336 6337 6345 6357 6358 6359 6360 6361 6362 6364 6365 6366 6374 6380 6381 6382 6393 6394 6395 6396 6397 6398 6399 6400 6401 6410 6414 6421 6422 6423 6424 6425 6426 6427 6428 6437 6438 6439 6440 6442 6445 6449 6450 6451 6452 6453 6454 6455 6456 6474 6494 6503 6504 6505 6506 6507 6508 6517 6518 6527 6528 6531 6532 6533 6536 6537 6539 6540 6541 6564 6565 6566 6584 6585 6586 6587 6588 6589 6590 6591 6592 6593 6615 6616 6617 6618 6619 6621 6622 6628 6645 6647 6648 6649 6650 6651 6652 6655 6659 6660 6661 6674 6680 6681 6682 6696 6697 6709 6710 6711 6712 6713 6714 6715 6716 6733 6744 6745 6763 6764 6765 6766 6767 6768 6769 6770 6784 6789 6794 6808 6820 6823 6824 6828 6829 6838 6844 6845 6846 6853 6859 6860 6862 6863 6864 6865 6866 6875 6877 6878 6888 6889 6890 6891 6899 6916 6917 6918 6919 6920 6921 6922 6923 6924 6933 6934 6935 6936 6937 6952 6957 6958 6959 6960 6961 6962 6963 6964 6965 6971 6981 6982 6983 6984 6993 6994 6995 6996 6997 6998 6999 7000 7001 7008 7009 7010 7011 7030 7031 7044 7045 7047 7048 7050 7051 7052 7056 7064 7065 7068 7078 7081 7088 7099 7100 7101 7102 7103 7105 7106 7107 7119 7120 7129 7130 7131 7132 7133 7135 7136 7148 7149 7150 7151 7152 7165 7169 7181 7182 7183 7184 7186 7187 7188 7189 7198 7199 7200 7201 7202 7203 7208 7212 7213 7216 7217 7224 7228 7235 7236 7237 7238 7239 7251 7252 7253 7254 7255 7256 7257 7258 7259 7267 7275 7276 7277 7278 7279 7280 7281 7282 7295 7298 7299 7310 7311 7312 7314 7315 7316 7325 7326 7327 7328 7329 7330 7331 7332 7337 7338 7360 7361 7368 7369 7373 7377 7388 7389 7390 7391 7392 7393 7394 7395 7404 7425 7426 7427 7436 7437 7438 7439 7440 7441 7442 7447 7451 7463 7477 7483 7486 7493 7494 7495 7507 7508 7509 7510 7511 7513 7514 7523 7524 7525 7526 7527 7528 7529 7534 7535 7536 7537 7538 7539 7540 7541 7542 7543 7544 7553 7559 7560 7581 7584 7587 7588 7589 7590 7594 7601 7629 7630 7631 7651 7667 7668 7669 7670 7671 7672 7685 7686 7687 7688 7689 7690 7691 7692 7703 7704 7705 7707 7708 7710 7711 7723 7728 7742 7751 7752 7753 7754 7755 7756 7757 7758 7762 7769 7770 7778 7779 7780 7782 7795 7796 7797 7798 7800 7801 7802 7803 7809 7810 7811 7812 7813 7814 7815 7816 7817 7818 7830 7831 7832 7835 7840 7852 7854 7867 7868 7869 7870 7871 7872 7873 7874 7889 7890 7891 7892 7894 7895 7896 7904 7905 7908 7914 7915 7925 7931 7944 7948 7972 7973 7974 7992 7993 8017 8018 8019 8020 8021 8022 8023 8024 8039 8048 8058 8070 8087 8088 8089 8102 8103 8104 8105 8106 8107 8110 8116 8117 8118 8119 8120 8121 8122 8123 8132 8141 8142 8154 8155 8156 8157 8159 8160 8161 8166 8180 8181 8182 8183 8184 8185 8186 8187 8188 8189 8190 8204 8205 8206 8207 8208 8209 8210 8211 8227 8230 8235 8236 8237 8238 8239 8241 8242 8243 8248 8251 8252 8258 8259 8267 8268 8269 8270 8283 8284 8285 8286 8287 8288 8289 8290 8291 8292 8302 8303 8312 8316 8317 8318 8327 8328 8329 8330 8331 8332 8333 8334 8343 8346 8347 8356 8357 8358 8359 8360 8361 8369 8370 8375 8376 8394 8395 8403 8404 8406 8407 8408 8409 8410 8411 8421 8430 8432 8433 8434 8448 8449 8456 8459 8460 8473 8474 8475 8478 8493 8502 8503 8505 8513 8514 8515 8516 8518 8519 8528 8529 8530 8531 8532 8533 8534 8535 8536 8537 8538 8549 8550 8552 8553 8554 8555 8556 8557 8563 8568 8571 8583 8593 8598 8599 8600 8601 8602 8603 8604 8605 8606 8610 8611 8614 8615 8616 8627 8637 8645 8649 8666 8667 8668 8669 8680 8681 8692 8693 8694 8695 8696 8697 8698 8699 8708 8710 8711 8712 8713 8714 8721\n"
     ]
    }
   ],
   "source": [
    "with open('rosalind_ba9n.txt') as file:\n",
    "    text = file.readline().rstrip()\n",
    "    pattern_list = [pattern.rstrip() for pattern in file.readlines()]\n",
    "\n",
    "\n",
    "class Node:\n",
    "    def __init__(self, val=None):\n",
    "        self.val = val\n",
    "        self.children_list = set()\n",
    "\n",
    "    def add_children(self, node):\n",
    "        self.children_list.add(node)\n",
    "\n",
    "    def get_children(self, val):\n",
    "        children = None\n",
    "        for node in self.children_list:\n",
    "            if node.val == val:\n",
    "                children = node\n",
    "        return children\n",
    "\n",
    "    def __str__(self):\n",
    "        if self.val == Node:\n",
    "            display_text = 'None'\n",
    "        else:\n",
    "            display_text = str(self.val)\n",
    "        children_text = ''\n",
    "        for child in self.children_list:\n",
    "            children_text += str(child.val) + ' '\n",
    "        display_text = f'val: {display_text}, children: {children_text}'\n",
    "        return display_text\n",
    "\n",
    "\n",
    "def prefix_trie_construction(pattern_list):\n",
    "    root = Node()\n",
    "    for pattern in pattern_list:\n",
    "        current_node = root\n",
    "        for symbol in pattern:\n",
    "            child_node = current_node.get_children(symbol)\n",
    "            if child_node is None:\n",
    "                child_node = Node(symbol)\n",
    "                current_node.add_children(child_node)\n",
    "            current_node = child_node\n",
    "    return root\n",
    "\n",
    "\n",
    "def prefix_trie_matching(text, node):\n",
    "    for symbol in text:\n",
    "        if len(node.children_list) == 0:\n",
    "            return True\n",
    "        child_node = node.get_children(symbol)\n",
    "        if child_node is None:\n",
    "            return False\n",
    "        node = child_node\n",
    "    if len(node.children_list) == 0:\n",
    "        return True\n",
    "    return False\n",
    "\n",
    "\n",
    "prefix_trie_root = prefix_trie_construction(pattern_list)\n",
    "text_len = len(text)\n",
    "match_list = []\n",
    "for i in range(len(text)):\n",
    "    if prefix_trie_matching(text[i:text_len], prefix_trie_root):\n",
    "        match_list.append(i)\n",
    "\n",
    "output = ' '.join(map(lambda x: str(x), match_list))\n",
    "print(output)\n",
    "with open('output.txt', 'w') as file:\n",
    "    file.write(output)\n"
   ]
  },
  {
   "cell_type": "markdown",
   "metadata": {
    "pycharm": {
     "name": "#%%\n"
    }
   },
   "source": [
    "# 6. Pattern Matching with the Suffix Array\n",
    "## Takes slightly longer time"
   ]
  },
  {
   "cell_type": "code",
   "execution_count": 5,
   "metadata": {
    "pycharm": {
     "name": "#%%\n"
    }
   },
   "outputs": [
    {
     "name": "stdout",
     "output_type": "stream",
     "text": [
      "72 279 298 374 586 593 645 698 705 776 783 797 804 832 839 1007 1226 1311 1390 1397 1474 1531 1538 1675 1738 1745 1851 1858 1874 1881 1999 2025 2145 2152 2321 2437 2444 2454 2502 2509 2528 2545 2552 2580 2611 2664 2671 2728 2735 2858\n"
     ]
    }
   ],
   "source": [
    "with open('rosalind_ba9h.txt') as file:\n",
    "    text = file.readline().rstrip()\n",
    "    pattern_list = [pattern.rstrip() for pattern in file.readlines()]\n",
    "\n",
    "text += '$'\n",
    "\n",
    "\n",
    "class Node:\n",
    "    def __init__(self, val=None, pos=0):\n",
    "        self.pos = pos\n",
    "        self.val = val\n",
    "        self.children_list = set()\n",
    "\n",
    "    def add_children(self, node):\n",
    "        self.children_list.add(node)\n",
    "\n",
    "    def get_children(self, val):\n",
    "        children = None\n",
    "        for node in self.children_list:\n",
    "            if node.val == val:\n",
    "                children = node\n",
    "        return children\n",
    "\n",
    "\n",
    "def build_trie(pattern_list):\n",
    "    root = Node()\n",
    "    for i, pattern in enumerate(pattern_list):\n",
    "        current_node = root\n",
    "        for symbol in pattern:\n",
    "            child_node = current_node.get_children(symbol)\n",
    "            if child_node is None:\n",
    "                child_node = Node(symbol)\n",
    "                if symbol == '$':\n",
    "                    child_node.pos = i\n",
    "                current_node.add_children(child_node)\n",
    "            current_node = child_node\n",
    "    return root\n",
    "\n",
    "\n",
    "def get_match_positions(node):\n",
    "    match_list = []\n",
    "    node_queue = [node]\n",
    "    while len(node_queue) != 0:\n",
    "        current_node = node_queue.pop(0)\n",
    "        if current_node.val == '$':\n",
    "            match_list.append(current_node.pos)\n",
    "        for child in current_node.children_list:\n",
    "            node_queue.append(child)\n",
    "    return match_list\n",
    "\n",
    "\n",
    "\n",
    "suffix_list = []\n",
    "for i in range(len(text)):\n",
    "    suffix_list.append(text[i:len(text)])\n",
    "\n",
    "suffix_trie_root = build_trie(suffix_list)\n",
    "match_list = []\n",
    "for pattern in pattern_list:\n",
    "    current_node = suffix_trie_root\n",
    "    pattern_found = True\n",
    "    for symbol in pattern:\n",
    "        current_node = current_node.get_children(symbol)\n",
    "        if current_node is None:\n",
    "            pattern_found = False\n",
    "            break\n",
    "    if pattern_found:\n",
    "        match_list.extend(get_match_positions(current_node))\n",
    "\n",
    "output = ' '.join(map(lambda x: str(x), sorted(match_list)))\n",
    "print(output)\n",
    "with open('output.txt', 'w') as file:\n",
    "    file.write(output)"
   ]
  },
  {
   "cell_type": "code",
   "execution_count": null,
   "metadata": {},
   "outputs": [],
   "source": []
  }
 ],
 "metadata": {
  "kernelspec": {
   "display_name": "Python [conda env:bioinformatics] *",
   "language": "python",
   "name": "conda-env-bioinformatics-py"
  },
  "language_info": {
   "codemirror_mode": {
    "name": "ipython",
    "version": 3
   },
   "file_extension": ".py",
   "mimetype": "text/x-python",
   "name": "python",
   "nbconvert_exporter": "python",
   "pygments_lexer": "ipython3",
   "version": "3.8.5"
  }
 },
 "nbformat": 4,
 "nbformat_minor": 1
}