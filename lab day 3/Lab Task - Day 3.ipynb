{
 "cells": [
  {
   "cell_type": "markdown",
   "metadata": {
    "collapsed": true,
    "pycharm": {
     "name": "#%% md\n"
    }
   },
   "source": [
    "# 1: Find a Position in a Genome Minimizing the Skew"
   ]
  },
  {
   "cell_type": "code",
   "execution_count": 6,
   "outputs": [],
   "source": [
    "import numpy as np\n",
    "from Bio.Seq import Seq\n",
    "import re\n",
    "import itertools"
   ],
   "metadata": {
    "collapsed": false,
    "pycharm": {
     "name": "#%%\n"
    }
   }
  },
  {
   "cell_type": "code",
   "execution_count": 3,
   "outputs": [
    {
     "name": "stdout",
     "output_type": "stream",
     "text": [
      "[12643]\n"
     ]
    }
   ],
   "source": [
    "dna = ''\n",
    "with open('rosalind_ba1f.txt') as file:\n",
    "    dna = file.read().replace('\\n', '')\n",
    "\n",
    "skew_map = {'C': -1, 'G': 1, 'T': 0, 'A': 0}\n",
    "skew = np.empty(len(dna), dtype=np.int16)\n",
    "count = 0\n",
    "for i, char in enumerate(dna):\n",
    "    count += skew_map[char]\n",
    "    skew[i] = count\n",
    "\n",
    "min = min(skew)\n",
    "indices = np.where(skew == min)[0] + 1\n",
    "print(indices)"
   ],
   "metadata": {
    "collapsed": false,
    "pycharm": {
     "name": "#%%\n"
    }
   }
  },
  {
   "cell_type": "markdown",
   "source": [
    "# 2: Find Patterns Forming Clumps in a String"
   ],
   "metadata": {
    "collapsed": false,
    "pycharm": {
     "name": "#%% md\n"
    }
   }
  },
  {
   "cell_type": "code",
   "execution_count": 5,
   "outputs": [
    {
     "name": "stdout",
     "output_type": "stream",
     "text": [
      "GGCACCTACG TCGCCACCGA AAGCACTTGG CAGCGATTTA TGCGACGGGA AAGTGAACTC\n"
     ]
    }
   ],
   "source": [
    "def get_pattern_count(text, pattern):\n",
    "    seq = Seq(text)\n",
    "    return seq.count_overlap(pattern)\n",
    "\n",
    "genome = ''\n",
    "k = 0\n",
    "l = 0\n",
    "t = 0\n",
    "with open('rosalind_ba1e.txt') as file:\n",
    "    stuffs = file.readlines()\n",
    "    char_regex = re.compile('[^a-zA-Z]')\n",
    "    int_regex = re.compile('[^0-9]')\n",
    "    genome = char_regex.sub('', stuffs[0])\n",
    "    numbers = stuffs[1].split(' ')\n",
    "    k = int(int_regex.sub('', numbers[0]))\n",
    "    l = int(int_regex.sub('', numbers[1]))\n",
    "    t = int(int_regex.sub('', numbers[2]))\n",
    "\n",
    "genome_len = len(genome)\n",
    "clump = []\n",
    "\n",
    "for i in range(genome_len - l + 1):\n",
    "    current_genome = genome[i:i+l]\n",
    "    current_genome_len = len(current_genome)\n",
    "    for j in range(current_genome_len - k + 1):\n",
    "        pattern = current_genome[j:j+k]\n",
    "        pattern_count = get_pattern_count(current_genome, pattern)\n",
    "        if pattern_count >= t and pattern not in clump:\n",
    "            clump.append(pattern)\n",
    "print(' '.join(clump))"
   ],
   "metadata": {
    "collapsed": false,
    "pycharm": {
     "name": "#%%\n"
    }
   }
  },
  {
   "cell_type": "markdown",
   "source": [
    "# 3: Find a Median String"
   ],
   "metadata": {
    "collapsed": false,
    "pycharm": {
     "name": "#%% md\n"
    }
   }
  },
  {
   "cell_type": "code",
   "execution_count": 7,
   "outputs": [
    {
     "name": "stdout",
     "output_type": "stream",
     "text": [
      "CTTGGT\n"
     ]
    }
   ],
   "source": [
    "def get_hamming_distance(dna1, dna2):\n",
    "    dna_len = len(dna1)\n",
    "    hamming_distance = 0\n",
    "\n",
    "    for i in range(dna_len):\n",
    "        if dna1[i] != dna2[i]:\n",
    "            hamming_distance += 1\n",
    "    return hamming_distance\n",
    "\n",
    "\n",
    "def get_text_distance(text, pattern):\n",
    "    text_len = len(text)\n",
    "    pattern_len = len(pattern)\n",
    "    min_distance = pattern_len\n",
    "\n",
    "    for i in range(text_len-pattern_len+1):\n",
    "        temp_pattern = text[i:i+pattern_len]\n",
    "        distance = get_hamming_distance(temp_pattern, pattern)\n",
    "        if min_distance > get_hamming_distance(temp_pattern, pattern):\n",
    "            min_distance = distance\n",
    "    return min_distance\n",
    "\n",
    "\n",
    "def get_dna_distance(dna, pattern):\n",
    "    pattern_len = len(pattern)\n",
    "    distance = 0\n",
    "    for text in dna:\n",
    "        text_distance = get_text_distance(text, pattern)\n",
    "        distance += text_distance\n",
    "    return distance\n",
    "\n",
    "\n",
    "dna = []\n",
    "k = 0\n",
    "with open('rosalind_ba2b.txt') as file:\n",
    "    stuffs = file.readlines()\n",
    "    char_regex = re.compile('[^a-zA-Z]')\n",
    "    int_regex = re.compile('[^0-9]')\n",
    "    k = int(int_regex.sub('', stuffs[0]))\n",
    "    dna = stuffs[1:]\n",
    "    dna = [char_regex.sub('', text) for text in dna]\n",
    "\n",
    "symbols = 'GACT'\n",
    "all_patterns = list(itertools.product(symbols, repeat=k))\n",
    "min_distance = k*len(dna)\n",
    "median = ''\n",
    "for pattern in all_patterns:\n",
    "    pattern = ''.join(pattern)\n",
    "    distance = get_dna_distance(dna, pattern)\n",
    "    if min_distance > distance:\n",
    "        min_distance = distance\n",
    "        median = pattern\n",
    "print(median)\n"
   ],
   "metadata": {
    "collapsed": false,
    "pycharm": {
     "name": "#%%\n"
    }
   }
  },
  {
   "cell_type": "markdown",
   "source": [
    "# 4: Find a Profile-most Probable k-mer in a String"
   ],
   "metadata": {
    "collapsed": false,
    "pycharm": {
     "name": "#%% md\n"
    }
   }
  },
  {
   "cell_type": "code",
   "execution_count": 8,
   "outputs": [
    {
     "name": "stdout",
     "output_type": "stream",
     "text": [
      "TGTACT\n"
     ]
    }
   ],
   "source": [
    "symbol_index = {'A': 0, 'C': 1, 'G': 2, 'T': 3}\n",
    "\n",
    "def get_probability(profile, pattern):\n",
    "    pattern_len = len(pattern)\n",
    "    probability = 1\n",
    "    for i in range(pattern_len):\n",
    "        probability *= profile[symbol_index[pattern[i]]][i]\n",
    "    return probability\n",
    "\n",
    "\n",
    "def get_most_probable_k_mer(profile, text, k):\n",
    "    most_probable_k_mer = ''\n",
    "    max_probability = -1\n",
    "    text_len = len(text)\n",
    "    for i in range(text_len - k + 1):\n",
    "        pattern = text[i:i + k]\n",
    "        probability = get_probability(profile, pattern)\n",
    "        if probability > max_probability:\n",
    "            max_probability = probability\n",
    "            most_probable_k_mer = pattern\n",
    "    return most_probable_k_mer\n",
    "\n",
    "\n",
    "text = ''\n",
    "k = 0\n",
    "profile_matrix = []\n",
    "with open('rosalind_ba2c.txt') as file:\n",
    "    stuffs = file.readlines()\n",
    "    char_regex = re.compile('[^a-zA-Z]')\n",
    "    text = char_regex.sub('', stuffs[0])\n",
    "    k = int(stuffs[1])\n",
    "    for row in stuffs[2:]:\n",
    "        all_floats = re.findall(r\"[-+]?\\d*\\.\\d+|\\d+\", row)\n",
    "        all_floats = [float(i) for i in all_floats]\n",
    "        profile_matrix.append(all_floats)\n",
    "\n",
    "print(get_most_probable_k_mer(profile_matrix, text, k))"
   ],
   "metadata": {
    "collapsed": false,
    "pycharm": {
     "name": "#%%\n"
    }
   }
  },
  {
   "cell_type": "markdown",
   "source": [
    "# 5: Implement GreedyMotifSearch"
   ],
   "metadata": {
    "collapsed": false,
    "pycharm": {
     "name": "#%% md\n"
    }
   }
  },
  {
   "cell_type": "code",
   "execution_count": 9,
   "outputs": [
    {
     "name": "stdout",
     "output_type": "stream",
     "text": [
      "GTTTGTATACAC\n",
      "ATAGCAACGCTG\n",
      "CACAACCTTACT\n",
      "TTTAACTGCGGT\n",
      "GTTAGCTTGAGT\n",
      "CTCTCCTTAGCT\n",
      "GTTAGAACAGGC\n",
      "GTTAGCATGACC\n",
      "CTAAGCTCAAGT\n",
      "GTTAGCCTGAAT\n",
      "ATCTGTATAGGT\n",
      "CTTAACACACAG\n",
      "GTTAGCCTGAGT\n",
      "GTTAGAATAACC\n",
      "TTCAGCACGAGC\n",
      "GTTACTCTACTC\n",
      "GTTTACCTAATT\n",
      "ATTAGACCGAAT\n",
      "GTTAGCTTGACT\n",
      "TTAACCCTGGGT\n",
      "GTATACTTGACC\n",
      "CTTAAAATGCGT\n",
      "GTTACCATGACG\n",
      "GTTAACATGATC\n",
      "CTTGCAACGGCG\n"
     ]
    }
   ],
   "source": [
    "symbol_index = {'A': 0, 'C': 1, 'G': 2, 'T': 3}\n",
    "\n",
    "def get_profile_from_motifs(motifs):\n",
    "    k = len(motifs[0])\n",
    "    t = len(motifs)\n",
    "    profile = [[0.0]*k, [0.0]*k, [0.0]*k, [0.0]*k]\n",
    "    for text in motifs:\n",
    "        for i in range(k):\n",
    "            index = symbol_index[text[i]]\n",
    "            profile[index][i] += 1\n",
    "    np_profile = np.array(profile)/t\n",
    "    profile = np_profile.tolist()\n",
    "    return profile\n",
    "\n",
    "\n",
    "def get_probability(profile, pattern):\n",
    "    pattern_len = len(pattern)\n",
    "    probability = 1\n",
    "    for i in range(pattern_len):\n",
    "        probability *= profile[symbol_index[pattern[i]]][i]\n",
    "    return probability\n",
    "\n",
    "\n",
    "def get_score_from_motifs(motifs):\n",
    "    t = len(motifs)\n",
    "    motif_len = len(motifs[0])\n",
    "    score = 0\n",
    "    for i in range(motif_len):\n",
    "        count = {}\n",
    "        best_count = 0\n",
    "        for motif in motifs:\n",
    "            symbol = motif[i]\n",
    "            if symbol not in count.keys():\n",
    "                count[symbol] = 1\n",
    "            else:\n",
    "                count[symbol] += 1\n",
    "            if count[symbol] > best_count:\n",
    "                best_count = count[symbol]\n",
    "        score += (t-best_count)\n",
    "    return score\n",
    "\n",
    "\n",
    "def get_most_probable_k_mer(profile, text, k):\n",
    "    most_probable_k_mer = ''\n",
    "    max_probability = -1\n",
    "    text_len = len(text)\n",
    "    for i in range(text_len - k + 1):\n",
    "        pattern = text[i:i + k]\n",
    "        probability = get_probability(profile, pattern)\n",
    "        if probability > max_probability:\n",
    "            max_probability = probability\n",
    "            most_probable_k_mer = pattern\n",
    "    return most_probable_k_mer\n",
    "\n",
    "\n",
    "def greedy_motif_search(dna, k, t):\n",
    "    best_motifs = [text[:k] for text in dna]\n",
    "    best_score = get_score_from_motifs(best_motifs)\n",
    "    text_len = len(dna[0])\n",
    "    for i in range(text_len-k+1):\n",
    "        current_motifs = [dna[0][i:i + k]]\n",
    "        for j in range(1, t):\n",
    "            current_profile = get_profile_from_motifs(current_motifs)\n",
    "            # print(np.array(current_profile))\n",
    "            most_probable_pattern = get_most_probable_k_mer(current_profile, dna[j], k)\n",
    "            current_motifs.append(most_probable_pattern)\n",
    "        # print(current_motifs)\n",
    "        current_score = get_score_from_motifs(current_motifs)\n",
    "        if current_score < best_score:\n",
    "            best_motifs = current_motifs\n",
    "            best_score = current_score\n",
    "    return best_motifs\n",
    "\n",
    "\n",
    "\n",
    "\n",
    "dna = []\n",
    "k = 0\n",
    "t = 0\n",
    "with open('rosalind_ba2d.txt') as file:\n",
    "    stuffs = file.readlines()\n",
    "    digits = re.findall(r'\\d+', stuffs[0])\n",
    "    k = int(digits[0])\n",
    "    t = int(digits[1])\n",
    "    dna = stuffs[1:]\n",
    "    char_regex = re.compile('[^a-zA-Z]')\n",
    "    dna = [char_regex.sub('', line) for line in dna]\n",
    "\n",
    "\n",
    "\n",
    "best_motifs = greedy_motif_search(dna, k, t)\n",
    "print('\\n'.join(best_motifs))"
   ],
   "metadata": {
    "collapsed": false,
    "pycharm": {
     "name": "#%%\n"
    }
   }
  },
  {
   "cell_type": "code",
   "execution_count": null,
   "outputs": [],
   "source": [],
   "metadata": {
    "collapsed": false,
    "pycharm": {
     "name": "#%%\n"
    }
   }
  }
 ],
 "metadata": {
  "kernelspec": {
   "name": "conda-env-bioinformatics-py",
   "language": "python",
   "display_name": "Python [conda env:bioinformatics] *"
  },
  "language_info": {
   "codemirror_mode": {
    "name": "ipython",
    "version": 2
   },
   "file_extension": ".py",
   "mimetype": "text/x-python",
   "name": "python",
   "nbconvert_exporter": "python",
   "pygments_lexer": "ipython2",
   "version": "2.7.6"
  }
 },
 "nbformat": 4,
 "nbformat_minor": 0
}