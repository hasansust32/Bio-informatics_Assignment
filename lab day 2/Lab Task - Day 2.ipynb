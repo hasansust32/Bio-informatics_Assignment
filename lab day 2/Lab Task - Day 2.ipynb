{
 "cells": [
  {
   "cell_type": "markdown",
   "metadata": {
    "pycharm": {
     "name": "#%% md\n"
    }
   },
   "source": [
    "# Subtask 1: Reverse Complement"
   ]
  },
  {
   "cell_type": "code",
   "execution_count": 2,
   "metadata": {
    "pycharm": {
     "name": "#%%\n"
    }
   },
   "outputs": [
    {
     "data": {
      "text/plain": [
       "'ACCGGGTTTT'"
      ]
     },
     "execution_count": 2,
     "metadata": {},
     "output_type": "execute_result"
    }
   ],
   "source": [
    "from Bio.Seq import Seq\n",
    "\n",
    "def get_reverse_complement(dna):\n",
    "    seq = Seq(dna)\n",
    "    reverse_complement = seq.reverse_complement()\n",
    "    return str(reverse_complement)\n",
    "\n",
    "dna = 'AAAACCCGGT'\n",
    "output = get_reverse_complement(dna)\n",
    "output"
   ]
  },
  {
   "cell_type": "markdown",
   "metadata": {
    "pycharm": {
     "name": "#%% md\n"
    }
   },
   "source": [
    "# Subtask 2: Hamming Distance"
   ]
  },
  {
   "cell_type": "code",
   "execution_count": 3,
   "metadata": {
    "pycharm": {
     "name": "#%%\n"
    }
   },
   "outputs": [
    {
     "data": {
      "text/plain": [
       "3"
      ]
     },
     "execution_count": 3,
     "metadata": {},
     "output_type": "execute_result"
    }
   ],
   "source": [
    "def get_hamming_distance(dna1, dna2):\n",
    "    len_1 = len(dna1)\n",
    "    len_2 = len(dna2)\n",
    "    min_len = min(len_1, len_2)\n",
    "    max_len = max(len_1, len_2)\n",
    "    hamming_distance = max_len - min_len\n",
    "\n",
    "    for i in range(min_len):\n",
    "        if dna1[i] != dna2[i]:\n",
    "            hamming_distance += 1\n",
    "\n",
    "    return hamming_distance\n",
    "\n",
    "dna1 = 'GGGCCGTTGGT'\n",
    "dna2 = 'GGACCGTTGAC'\n",
    "distance = get_hamming_distance(dna1, dna2)\n",
    "distance"
   ]
  },
  {
   "cell_type": "markdown",
   "metadata": {
    "pycharm": {
     "name": "#%% md\n"
    }
   },
   "source": [
    "# Subtask 3: Approximate Pattern Matching Problem"
   ]
  },
  {
   "cell_type": "code",
   "execution_count": 4,
   "metadata": {
    "pycharm": {
     "name": "#%%\n"
    }
   },
   "outputs": [
    {
     "data": {
      "text/plain": [
       "[6, 7, 26, 27, 78]"
      ]
     },
     "execution_count": 4,
     "metadata": {},
     "output_type": "execute_result"
    }
   ],
   "source": [
    "def get_position_of_patterns(text, pattern, d, reverse_complement=False):\n",
    "    position_list = []\n",
    "    len_pattern = len(pattern)\n",
    "    len_text = len(text)\n",
    "    for i in range(len_text - len_pattern + 1):\n",
    "        temp_pattern = text[i:i+len_pattern]\n",
    "        distance = get_hamming_distance(temp_pattern, pattern)\n",
    "        if distance <= d:\n",
    "            position_list.append(i)\n",
    "        if reverse_complement:\n",
    "            distance = get_hamming_distance(temp_pattern, get_reverse_complement(pattern))\n",
    "            if distance <= d:\n",
    "                position_list.append(i)\n",
    "    return position_list\n",
    "\n",
    "pattern = 'ATTCTGGA'\n",
    "text = 'CGCCCGAATCCAGAACGCATTCCCATATTTCGGGACCACTGGCCTCCACGGTACGGACGTCAATCAAATGCCTAGCGGCTTGTGGTTTCTCCTACGCTCC'\n",
    "d = 3\n",
    "list_of_positions = get_position_of_patterns(text, pattern, d)\n",
    "list_of_positions"
   ]
  },
  {
   "cell_type": "markdown",
   "metadata": {
    "pycharm": {
     "name": "#%% md\n"
    }
   },
   "source": [
    "# Subtask 4: Frequent Words with Mismatches"
   ]
  },
  {
   "cell_type": "code",
   "execution_count": 5,
   "metadata": {
    "pycharm": {
     "name": "#%%\n"
    }
   },
   "outputs": [
    {
     "data": {
      "text/plain": [
       "['ATGT', 'ATGC', 'GATG']"
      ]
     },
     "execution_count": 5,
     "metadata": {},
     "output_type": "execute_result"
    }
   ],
   "source": [
    "import itertools\n",
    "\n",
    "def freq_words_with_mismatch(text, k, d, reverse_complement=False):\n",
    "    symbols = ['A', 'T', 'G', 'C']\n",
    "    all_possible_patterns = list(itertools.product(symbols, repeat=k))\n",
    "    freq = 0\n",
    "    most_frequent_words = []\n",
    "    for pattern in all_possible_patterns:\n",
    "        pattern = ''.join(pattern)\n",
    "        pattern_position_list = get_position_of_patterns(text, pattern, d, reverse_complement)\n",
    "        pattern_count = len(pattern_position_list)\n",
    "        if pattern_count > freq:\n",
    "            most_frequent_words.clear()\n",
    "            freq = pattern_count\n",
    "            most_frequent_words.append(pattern)\n",
    "        elif pattern_count == freq:\n",
    "            most_frequent_words.append(pattern)\n",
    "    return most_frequent_words\n",
    "\n",
    "\n",
    "text = 'ACGTTGCATGTCGCATGATGCATGAGAGCT'\n",
    "k = 4\n",
    "d = 1\n",
    "words = freq_words_with_mismatch(text, k, d)\n",
    "words"
   ]
  },
  {
   "cell_type": "markdown",
   "metadata": {
    "pycharm": {
     "name": "#%% md\n"
    }
   },
   "source": [
    "# Subtask 5: Frequent Words with Mismatches and Reverse Complements"
   ]
  },
  {
   "cell_type": "code",
   "execution_count": 6,
   "metadata": {
    "pycharm": {
     "name": "#%%\n"
    }
   },
   "outputs": [
    {
     "data": {
      "text/plain": [
       "['ATGT', 'ACAT']"
      ]
     },
     "execution_count": 6,
     "metadata": {},
     "output_type": "execute_result"
    }
   ],
   "source": [
    "\n",
    "text = 'ACGTTGCATGTCGCATGATGCATGAGAGCT'\n",
    "\n",
    "k = 4\n",
    "d = 1\n",
    "words = freq_words_with_mismatch(text, k, d, True)\n",
    "words\n"
   ]
  },
  {
   "cell_type": "markdown",
   "metadata": {
    "pycharm": {
     "name": "#%% md\n"
    }
   },
   "source": [
    "# Subtask 6: Implement PatternToNumber"
   ]
  },
  {
   "cell_type": "code",
   "execution_count": 7,
   "metadata": {
    "pycharm": {
     "name": "#%%\n"
    }
   },
   "outputs": [
    {
     "data": {
      "text/plain": [
       "11"
      ]
     },
     "execution_count": 7,
     "metadata": {},
     "output_type": "execute_result"
    }
   ],
   "source": [
    "import itertools\n",
    "\n",
    "def pattern_to_number(pattern):\n",
    "    pattern_len = len(pattern)\n",
    "    symbols = ['A', 'C', 'G', 'T']\n",
    "    all_patterns = list(itertools.product(symbols, repeat=pattern_len))\n",
    "    return all_patterns.index(tuple(pattern))\n",
    "\n",
    "dna = 'AGT'\n",
    "number = pattern_to_number(dna)\n",
    "number"
   ]
  },
  {
   "cell_type": "markdown",
   "metadata": {
    "pycharm": {
     "name": "#%% md\n"
    }
   },
   "source": [
    "# Subtask 7: Implement NumberToPattern"
   ]
  },
  {
   "cell_type": "code",
   "execution_count": 17,
   "metadata": {
    "pycharm": {
     "name": "#%%\n"
    }
   },
   "outputs": [
    {
     "data": {
      "text/plain": [
       "'AGTC'"
      ]
     },
     "execution_count": 17,
     "metadata": {},
     "output_type": "execute_result"
    }
   ],
   "source": [
    "import itertools\n",
    "\n",
    "def number_to_pattern(index, k):\n",
    "    symbols = ['A', 'C', 'G', 'T']\n",
    "    all_patterns = list(itertools.product(symbols, repeat=k))\n",
    "    return ''.join(all_patterns[index])\n",
    "\n",
    "index = 45\n",
    "k = 4\n",
    "dna = number_to_pattern(index, k)\n",
    "dna"
   ]
  }
 ],
 "metadata": {
  "kernelspec": {
   "display_name": "Python [conda env:bioinformatics] *",
   "language": "python",
   "name": "conda-env-bioinformatics-py"
  },
  "language_info": {
   "codemirror_mode": {
    "name": "ipython",
    "version": 3
   },
   "file_extension": ".py",
   "mimetype": "text/x-python",
   "name": "python",
   "nbconvert_exporter": "python",
   "pygments_lexer": "ipython3",
   "version": "3.8.5"
  }
 },
 "nbformat": 4,
 "nbformat_minor": 1
}
